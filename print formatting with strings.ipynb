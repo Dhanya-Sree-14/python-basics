{
 "cells": [
  {
   "cell_type": "code",
   "execution_count": 1,
   "metadata": {},
   "outputs": [
    {
     "name": "stdout",
     "output_type": "stream",
     "text": [
      "One of my friend's name is Geetha .\n"
     ]
    }
   ],
   "source": [
    "#Formatting with placeholders\n",
    "print(\"One of my friend's name is %s .\" %'Geetha')"
   ]
  },
  {
   "cell_type": "code",
   "execution_count": 3,
   "metadata": {},
   "outputs": [
    {
     "name": "stdout",
     "output_type": "stream",
     "text": [
      "My friends are Geetha and Sakshi \n"
     ]
    }
   ],
   "source": [
    "print(\"My friends are %s and %s \" %('Geetha','Sakshi'))"
   ]
  },
  {
   "cell_type": "code",
   "execution_count": 5,
   "metadata": {},
   "outputs": [
    {
     "name": "stdout",
     "output_type": "stream",
     "text": [
      "The wh questions are what, when, why and where.\n"
     ]
    }
   ],
   "source": [
    "a, b, c, d = 'what', 'when','why','where'\n",
    "print(\"The wh questions are %s, %s, %s and %s.\"%(a, b, c, d))"
   ]
  },
  {
   "cell_type": "code",
   "execution_count": 6,
   "metadata": {},
   "outputs": [
    {
     "name": "stdout",
     "output_type": "stream",
     "text": [
      "He said his name was Raghav.\n",
      "She said her name was 'Ananya'.\n"
     ]
    }
   ],
   "source": [
    "#Format conversion methods.\n",
    "print('He said his name was %s.' %'Raghav')\n",
    "print('She said her name was %r.' %'Ananya')"
   ]
  },
  {
   "cell_type": "code",
   "execution_count": 7,
   "metadata": {},
   "outputs": [
    {
     "name": "stdout",
     "output_type": "stream",
     "text": [
      "I once caught a fish this \tbig.\n",
      "I once caught a lizard 'this  big'.\n"
     ]
    }
   ],
   "source": [
    "print('I once caught a fish %s.' %'this \\tbig')\n",
    "print('I once caught a lizard %r.' %'this  big')"
   ]
  },
  {
   "cell_type": "code",
   "execution_count": 8,
   "metadata": {},
   "outputs": [
    {
     "name": "stdout",
     "output_type": "stream",
     "text": [
      "I wrote 8.65 programs today.\n",
      "I wrote 8 programs today.\n"
     ]
    }
   ],
   "source": [
    "print('I wrote %s programs today.' %8.65)\n",
    "print('I wrote %d programs today.' %8.75)   "
   ]
  },
  {
   "cell_type": "code",
   "execution_count": 9,
   "metadata": {},
   "outputs": [
    {
     "name": "stdout",
     "output_type": "stream",
     "text": [
      "Floating point numbers:  20.14\n"
     ]
    }
   ],
   "source": [
    "#Padding and Precision of Floating Point Numbers\n",
    "print('Floating point numbers: %6.2f' %(20.144))"
   ]
  },
  {
   "cell_type": "code",
   "execution_count": 10,
   "metadata": {},
   "outputs": [
    {
     "name": "stdout",
     "output_type": "stream",
     "text": [
      "Floating point numbers: 20.144\n"
     ]
    }
   ],
   "source": [
    "print('Floating point numbers: %1.3f' %(20.144))"
   ]
  },
  {
   "cell_type": "code",
   "execution_count": 11,
   "metadata": {},
   "outputs": [
    {
     "name": "stdout",
     "output_type": "stream",
     "text": [
      "Floating point numbers: 20.14400\n"
     ]
    }
   ],
   "source": [
    "print('Floating point numbers: %1.5f' %(20.144))"
   ]
  },
  {
   "cell_type": "code",
   "execution_count": 14,
   "metadata": {},
   "outputs": [
    {
     "name": "stdout",
     "output_type": "stream",
     "text": [
      "Floating point numbers:           20.14\n"
     ]
    }
   ],
   "source": [
    "print('Floating point numbers: %15.2f' %(20.144))"
   ]
  },
  {
   "cell_type": "code",
   "execution_count": 13,
   "metadata": {},
   "outputs": [
    {
     "name": "stdout",
     "output_type": "stream",
     "text": [
      "Floating point numbers:                          20.14\n"
     ]
    }
   ],
   "source": [
    "print('Floating point numbers: %30.2f' %(20.144))"
   ]
  },
  {
   "cell_type": "code",
   "execution_count": 16,
   "metadata": {},
   "outputs": [
    {
     "name": "stdout",
     "output_type": "stream",
     "text": [
      "First: hi@, Second:  3.14, Third: 'bye!'\n"
     ]
    }
   ],
   "source": [
    "#Multiple Formatting\n",
    "print('First: %s, Second: %5.2f, Third: %r' %('hi@',3.1415,'bye!'))"
   ]
  },
  {
   "cell_type": "code",
   "execution_count": 17,
   "metadata": {},
   "outputs": [
    {
     "name": "stdout",
     "output_type": "stream",
     "text": [
      "This is a string with an insert\n"
     ]
    }
   ],
   "source": [
    "#Formatting with the .format() method\n",
    "print('This is a string with an {}'.format('insert'))"
   ]
  },
  {
   "cell_type": "code",
   "execution_count": 20,
   "metadata": {},
   "outputs": [
    {
     "name": "stdout",
     "output_type": "stream",
     "text": [
      "I am dhanya sree\n"
     ]
    }
   ],
   "source": [
    "#1. Inserted objects can be called by index position\n",
    "print('{3} {2} {1} {0}'.format('sree','dhanya','am','I'))"
   ]
  },
  {
   "cell_type": "code",
   "execution_count": 21,
   "metadata": {},
   "outputs": [
    {
     "name": "stdout",
     "output_type": "stream",
     "text": [
      "First number: 1, Second number: Two, Third number: 12.3\n"
     ]
    }
   ],
   "source": [
    "#2. Inserted objects can be assigned keywords\n",
    "print('First number: {a}, Second number: {b}, Third number: {c}'.format(a=1,b='Two',c=12.3))"
   ]
  },
  {
   "cell_type": "code",
   "execution_count": 22,
   "metadata": {},
   "outputs": [
    {
     "name": "stdout",
     "output_type": "stream",
     "text": [
      "A rupee saved is a rupee earned.\n",
      "A rupee saved is a rupee earned.\n"
     ]
    }
   ],
   "source": [
    "#3. Inserted objects can be reused, avoiding duplication\n",
    "print('A %s saved is a %s earned.' %('rupee','rupee'))\n",
    "# vs.\n",
    "print('A {p} saved is a {p} earned.'.format(p='rupee'))"
   ]
  },
  {
   "cell_type": "code",
   "execution_count": 24,
   "metadata": {},
   "outputs": [
    {
     "name": "stdout",
     "output_type": "stream",
     "text": [
      "Fruit    | Quantity    \n",
      "Apples   |          3.0\n",
      "Oranges  |           10\n"
     ]
    }
   ],
   "source": [
    "#Alignment, padding and precision with .format()\n",
    "print('{0:8} | {1:12}'.format('Fruit', 'Quantity'))\n",
    "print('{0:8} | {1:12}'.format('Apples', 3.))\n",
    "print('{0:8} | {1:12}'.format('Oranges', 10))"
   ]
  },
  {
   "cell_type": "code",
   "execution_count": 25,
   "metadata": {},
   "outputs": [
    {
     "name": "stdout",
     "output_type": "stream",
     "text": [
      "Left     |  Center  |    Right\n",
      "11       |    22    |       33\n",
      "21       |    31    |       41\n"
     ]
    }
   ],
   "source": [
    "#pass an optional <,^, or > to set a left, center or right alignment:\n",
    "print('{0:<8} | {1:^8} | {2:>8}'.format('Left','Center','Right'))\n",
    "print('{0:<8} | {1:^8} | {2:>8}'.format(11,22,33))\n",
    "print('{0:<8} | {1:^8} | {2:>8}'.format(21,31,41))"
   ]
  },
  {
   "cell_type": "code",
   "execution_count": 26,
   "metadata": {},
   "outputs": [
    {
     "name": "stdout",
     "output_type": "stream",
     "text": [
      "Left==== | _Center_ | ...Right\n",
      "11====== | ___22___ | ......33\n",
      "21====== | ___31___ | ......41\n"
     ]
    }
   ],
   "source": [
    "#precede the aligment operator with a padding character\n",
    "print('{0:=<8} | {1:_^8} | {2:.>8}'.format('Left','Center','Right'))\n",
    "print('{0:=<8} | {1:_^8} | {2:.>8}'.format(11,22,33))\n",
    "print('{0:=<8} | {1:_^8} | {2:.>8}'.format(21,31,41))"
   ]
  },
  {
   "cell_type": "code",
   "execution_count": 27,
   "metadata": {},
   "outputs": [
    {
     "name": "stdout",
     "output_type": "stream",
     "text": [
      "This is my ten-character, two-decimal number:     13.58\n",
      "This is my ten-character, two-decimal number:     13.58\n"
     ]
    }
   ],
   "source": [
    "print('This is my ten-character, two-decimal number:%10.2f' %13.579)\n",
    "print('This is my ten-character, two-decimal number:{0:10.2f}'.format(13.579))"
   ]
  },
  {
   "cell_type": "code",
   "execution_count": 28,
   "metadata": {},
   "outputs": [
    {
     "name": "stdout",
     "output_type": "stream",
     "text": [
      "She said her name is dhanya.\n"
     ]
    }
   ],
   "source": [
    "#Formatted String Literals (f-strings)\n",
    "\n",
    "name = 'dhanya'\n",
    "\n",
    "print(f\"She said her name is {name}.\")"
   ]
  },
  {
   "cell_type": "code",
   "execution_count": 32,
   "metadata": {},
   "outputs": [
    {
     "name": "stdout",
     "output_type": "stream",
     "text": [
      "She said her name is 'dhanya'.\n"
     ]
    }
   ],
   "source": [
    "#Pass !r to get the string representation:\n",
    "name = 'dhanya'\n",
    "\n",
    "print(f\"She said her name is {name!r}.\")"
   ]
  },
  {
   "cell_type": "code",
   "execution_count": 35,
   "metadata": {},
   "outputs": [
    {
     "name": "stdout",
     "output_type": "stream",
     "text": [
      "My 10 character, four decimal number is:   23.4569\n",
      "My 10 character, four decimal number is:   23.4569\n"
     ]
    }
   ],
   "source": [
    "num = 23.45689\n",
    "print(\"My 10 character, four decimal number is:{0:10.4f}\".format(num))\n",
    "print(f\"My 10 character, four decimal number is:{num:{10}.{6}}\")"
   ]
  },
  {
   "cell_type": "code",
   "execution_count": 36,
   "metadata": {},
   "outputs": [
    {
     "name": "stdout",
     "output_type": "stream",
     "text": [
      "My 10 character, four decimal number is:   23.4500\n",
      "My 10 character, four decimal number is:     23.45\n"
     ]
    }
   ],
   "source": [
    "num = 23.45\n",
    "print(\"My 10 character, four decimal number is:{0:10.4f}\".format(num))\n",
    "print(f\"My 10 character, four decimal number is:{num:{10}.{6}}\")"
   ]
  },
  {
   "cell_type": "code",
   "execution_count": 37,
   "metadata": {},
   "outputs": [
    {
     "name": "stdout",
     "output_type": "stream",
     "text": [
      "My 10 character, four decimal number is:   23.4500\n",
      "My 10 character, four decimal number is:   23.4500\n"
     ]
    }
   ],
   "source": [
    "num = 23.45\n",
    "print(\"My 10 character, four decimal number is:{0:10.4f}\".format(num))\n",
    "print(f\"My 10 character, four decimal number is:{num:10.4f}\")"
   ]
  },
  {
   "cell_type": "code",
   "execution_count": null,
   "metadata": {},
   "outputs": [],
   "source": []
  }
 ],
 "metadata": {
  "kernelspec": {
   "display_name": "Python 3",
   "language": "python",
   "name": "python3"
  },
  "language_info": {
   "codemirror_mode": {
    "name": "ipython",
    "version": 3
   },
   "file_extension": ".py",
   "mimetype": "text/x-python",
   "name": "python",
   "nbconvert_exporter": "python",
   "pygments_lexer": "ipython3",
   "version": "3.8.5"
  }
 },
 "nbformat": 4,
 "nbformat_minor": 4
}
